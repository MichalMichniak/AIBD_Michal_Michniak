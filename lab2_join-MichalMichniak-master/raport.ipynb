{
 "cells": [
  {
   "cell_type": "markdown",
   "metadata": {},
   "source": [
    "# <center>Laboratorium Analiza i bazy danych </center>\n",
    "\n",
    "## <center>Łączenie tabel, podzapytania i funkcje agregujące</center>"
   ]
  },
  {
   "cell_type": "markdown",
   "metadata": {},
   "source": [
    "## Przykładowe tabele obrazujące łączenie\n",
    "\n",
    "Do zobrazowania operacji łączenia zostaną użyte tabele:\n",
    "\n",
    "```sql\n",
    "CREATE TABLE shape_a (\n",
    "    id INT PRIMARY KEY,\n",
    "    shape VARCHAR (100) NOT NULL\n",
    ");\n",
    " \n",
    "CREATE TABLE shape_b (\n",
    "    id INT PRIMARY KEY,\n",
    "    shape VARCHAR (100) NOT NULL\n",
    ");\n",
    "```\n",
    " \n",
    "Polecenie CREATE TABLE tworzy tabelę o zadanej nazwie i strukturze. Ogólna postać to:\n",
    "```sql\n",
    "CREATE TABLE tab_name (\n",
    "    col_name1 data_type constrain,\n",
    "    col_name1 data_type constrain,\n",
    "    ...\n",
    ");\n",
    "```\n",
    "Należy uzupełnić ją danymi:\n",
    "```sql\n",
    "INSERT INTO shape_a (id, shape)\n",
    "VALUES\n",
    "    (1, 'Trójkąt'),\n",
    "    (2, 'Kwadrat'),\n",
    "    (3, 'Deltoid'),\n",
    "    (4, 'Traper');\n",
    " \n",
    "INSERT INTO shape_b (id, shape)\n",
    "VALUES\n",
    "    (1, 'Kwadrat'),\n",
    "    (2, 'Trójkąt'),\n",
    "    (3, 'Romb'),\n",
    "    (4, 'Równoległobok');\n",
    "```\n",
    "Komenda INSERT INTO pozwala na dodanie do tabeli rekordów. Ogólna postać to:\n",
    "\n",
    "```sql\n",
    "INSERT INTO tab_name (col1_name, col2_name2, ...) \n",
    "VALUES\n",
    "    (val1_col1, val2_col2),\n",
    "    (val2_col1, val2_col2),\n",
    "    ...\n",
    "```"
   ]
  },
  {
   "cell_type": "markdown",
   "metadata": {},
   "source": [
    "## Inner join \n",
    "\n",
    "Jest to podstawowy rodzaj złączenie. Ten sposób złączenia wybiera  te wiersze, dla których warunek złączenia jest spełniony. W żadnej z łączonych tabel kolumna użyta do łączenia nie może mieć wartości NULL. \n",
    "\n",
    "#### Przykład:\n",
    "```sql\n",
    "SELECT\n",
    "    a.id id_a,\n",
    "    a.shape shape_a,\n",
    "    b.id id_b,\n",
    "    b.shape shape_b\n",
    "FROM\n",
    "    shape_a a\n",
    "INNER JOIN shape_b b ON a.shape = b.shape;\n",
    "```\n",
    "W zapytaniu powyżej użyto *aliasów* nazw tabel i column wynikowych, jest to szczególnie przydatne przy długich nazwach tabel i wprowadza czytelność w zapytaniu.\n",
    "\n",
    "#### Wynik:\n",
    "|id_a|shape_a|id_b|shape_b|\n",
    "|-|-|-|-|\n",
    "|1|Trójkąt|2|Trójkąt|\n",
    "|2|Kwadrat|1|Kwadrat|"
   ]
  },
  {
   "cell_type": "markdown",
   "metadata": {},
   "source": [
    "## OUTER JOIN\n",
    "\n",
    "Istnieją trzy rodzaje złączeń OUTER:\n",
    "- LEFT OUTER JOIN,\n",
    "- RIGHT OUTER JOIN,\n",
    "- FULL OUTER JOIN.\n",
    "\n",
    "### LEFT OUTER JOIN\n",
    "\n",
    "Ten rodzaj złączenie zwróci wszystkie rekordy z lewej tablicy i dopasuje do nich rekordy z prawej tablicy które spełniją zadany warunek złączenia. Jeżeli w prawej tablicy nie występują rekordy spełnijące warunek złączenia z lewą w ich miejscu pojawią się wartości NULL.\n",
    "\n",
    "#### Przykład 1:\n",
    "```sql\n",
    "SELECT\n",
    "    a.id id_a,\n",
    "    a.shape shape_a,\n",
    "    b.id id_b,\n",
    "    b.shape shape_b\n",
    "FROM\n",
    "    shape_a a\n",
    "LEFT JOIN shape_b b ON a.shape = b.shape;\n",
    "```\n",
    "#### Wynik:\n",
    "|id_a|shape_a|id_b|shape_b|\n",
    "|-|-|-|-|\n",
    "|1|Trójkąt|2|Trójkąt|\n",
    "|2|Kwadrat|1|Kwadrat|\n",
    "|3|Deltoid|NULL|NULL|\n",
    "|4|Traper|NULL|NULL|\n",
    "\n",
    "#### Przykład 2:\n",
    "```sql\n",
    "SELECT\n",
    "    b.id id_b,\n",
    "    b.shape shape_b,\n",
    "    a.id id_a,\n",
    "    a.shape shape_a   \n",
    "FROM\n",
    "    shape_b b\n",
    "LEFT JOIN shape_a a ON a.shape = b.shape;\n",
    "```\n",
    "#### Wynik:\n",
    "|id_a|shape_a|id_b|shape_b|\n",
    "|-|-|-|-|\n",
    "|1|Kwadrat|2|Kwadrat|\n",
    "|2|Trójkąt|1|Trójkąt|\n",
    "|3|Romb|NULL|NULL|\n",
    "|4|Równoległobok|NULL|NULL|\n",
    "\n",
    "### RIGHT OUTER JOIN\n",
    "\n",
    "Działa jak left outer join z tym, że prawa tablica w zapytaniu jest brana w całości.\n",
    "\n",
    "#### Przykład:\n",
    "```sql\n",
    "SELECT\n",
    "    a.id id_a,\n",
    "    a.shape shape_a,\n",
    "    b.id id_b,\n",
    "    b.shape shape_b\n",
    "FROM\n",
    "    shape_a a\n",
    "RIGHT JOIN shape_b b ON a.shape = b.shape;\n",
    "```\n",
    "\n",
    "#### Wynik:\n",
    "|id_a|shape_a|id_b|shape_b|\n",
    "|-|-|-|-|\n",
    "|2|Kwadrat|1|Kwadrat|\n",
    "|1|Trójkąt|2|Trójkąt|\n",
    "|NULL|NULL|3|Romb|\n",
    "|NULL|NULL|4|Równoległobok|\n",
    "\n",
    "\n",
    "### FULL OUTER JOIN\n",
    "\n",
    "Jest złączeniem które zwraca:\n",
    "- wiersze dla których warunek złączenia jest spełniony,\n",
    "- wiersze z lewej tabeli dla których nie ma odpowiedników w prawej,\n",
    "- wiersze z prawej tabeli dla których nie ma odpowiedników w lewej. \n",
    "\n",
    "#### Przykład:\n",
    "```sql\n",
    "SELECT\n",
    "    a.id id_a,\n",
    "    a.shape shape_a,\n",
    "    b.id id_b,\n",
    "    b.shape shape_b\n",
    "FROM\n",
    "    shape_a a\n",
    "FULL JOIN shape_b b ON a.shape = b.shape;\n",
    "```\n",
    "|id_a|shape_a|id_b|shape_b|\n",
    "|-|-|-|-|\n",
    "|1|Trójkąt|2|Trójkąt|\n",
    "|2|Kwadrat|1|Kwadrat|\n",
    "|3|Deltoid\"|NULL|NULL|\n",
    "|4|Traper|NULL|NULL|\n",
    "|NULL|NULL|3|Romb|\n",
    "|NULL|NULL|4|Równoległobok|"
   ]
  },
  {
   "cell_type": "markdown",
   "metadata": {},
   "source": [
    "## Podzapytania\n",
    "\n",
    "Podzapytanie zagnieżdżone SELECT znajduje się wewnątrz zewnętrznego zapytania SELECT, np. po klauzuli WHERE, HAVING lub FROM. W przypadku tego rodzaju zapytań w pierwszej kolejności wykonywane są wewnętrzne zapytania SELECT, a ich wynik jest wykorzystywany do zewnętrznego zapytania SELECT. Stąd łatwo zuważyć, że mogą one służyć do poprawy wydajności obsługi zapytania. Należy dobierać podzapytania tak by najbardziej zagnieżdżone podzapytanie zawierało najmniejszy zbiór poszukiwań. \n",
    "\n",
    "#### Przykład:\n",
    "Jeżeli chcemy znaleźć w bazie informację o tytułach filmów zwróconych w zadanym okresie możemy wykonać następujące zapytanie:\n",
    "```sql\n",
    "SELECT\n",
    "   film_id,\n",
    "   title\n",
    "FROM\n",
    "   film\n",
    "WHERE\n",
    "   film_id IN (\n",
    "      SELECT\n",
    "         inventory.film_id\n",
    "      FROM\n",
    "         rental\n",
    "      INNER JOIN inventory ON inventory.inventory_id = rental.inventory_id\n",
    "      WHERE\n",
    "         return_date BETWEEN '2005-05-29'\n",
    "      AND '2005-05-30'\n",
    "   );\n",
    "```\n",
    "\n",
    "#### Wynik\n",
    "|film_id|title|\n",
    "|-|-|\n",
    "|307|Fellowship Autumn|\n",
    "|255|Driving Polish|\n",
    "|388|Gunfight Moon|\n",
    "|130|Celebrity Horn|\n",
    "|563|Massacre Usual|\n",
    "|397|Hanky October|\n",
    "|...|...|\n",
    "\n",
    "### Używanie podzapytań\n",
    "\n",
    "Pod zapytania mogą być używane w :\n",
    "- SELECT,\n",
    "- UPDATE,\n",
    "- DELETE,\n",
    "- Funkcjach agregujących,\n",
    "- Do definiowania tabel tymczasowych.\n",
    "\n",
    "Używając podzapytań zapytania SQL szybko mogą stać się mało czytelne. Przez co będą trudne w zrozumieniu i późniejszym utrzymaniu. W celu analizy zapytań można użyć klauzuli __EXPLAIN__, która przeanalizuje zapytanie. Klauzula ta może służyć również do porównywania wydajności zapytań\n",
    "\n",
    "#### Przykład:\n",
    "```sql\n",
    "EXPLAIN SELECT\n",
    "   *\n",
    "FROM\n",
    "   film\n",
    "```"
   ]
  },
  {
   "cell_type": "markdown",
   "metadata": {},
   "source": [
    "## Funkcje agregujące\n",
    "\n",
    "Funkcje agregujące wykonują obliczenia na zestawie wierszy i zwracają pojedynczy wiersz. PostgreSQL udostępnia wszystkie standardowe funkcje agregujące SQL w następujący sposób:\n",
    "- AVG () - zwraca średnią wartość.\n",
    "- COUNT () - zwraca liczbę wartości.\n",
    "- MAX () - zwraca maksymalną wartość.\n",
    "- MIN () - zwraca minimalną wartość.\n",
    "- SUM () - zwraca sumę wszystkich lub różnych wartości.\n",
    "\n",
    "Pełna lista funkcji agregującej: https://www.postgresql.org/docs/9.5/functions-aggregate.html\n",
    "\n",
    "Często używamy funkcji agregujących z klauzulą GROUP BY w instrukcji SELECT. W tych przypadkach klauzula GROUP BY dzieli zestaw wyników na grupy wierszy i funkcja agregująca wykonuje obliczenia dla każdej grupy, np. maksimum, minimum, średnia itp. Funkcji agregujących można używać funkcji agregujących jako wyrażeń tylko w następujących klauzulach: SELECT i HAVING.\n",
    "\n",
    "### GROUP BY\n",
    "Klauzula GROUP BY dzieli wiersze zwrócone z instrukcji SELECT na grupy. Dla  każdej grupy można zastosować funkcję agregującą, np. SUM aby obliczyć sumę pozycji lub\n",
    "COUNT aby uzyskać liczbę elementów w grupach.\n",
    "\n",
    "Poniższa instrukcja ilustruje składnię klauzuli GROUP BY:\n",
    "```sql\n",
    "SELECT \n",
    "    column_1, \n",
    "    aggregate_function(column_2)\n",
    "FROM \n",
    "    tbl_name\n",
    "GROUP BY \n",
    "    column_1;\n",
    "```\n",
    "Klauzula GROUP BY musi pojawić się zaraz po klauzuli FROM lub WHERE, n0astępnie GROUP BY zawiera listę  kolumna oddzielonych przecinkami. \n",
    "\n",
    "### HAVING\n",
    "Często używamy klauzuli HAVING w połączeniu z klauzulą GROUP BY do filtrowania wierszy grup\n",
    "które nie spełniają określonego warunku.\n",
    "\n",
    "Poniższa instrukcja ilustruje typową składnię klauzuli HAVING:\n",
    "```sql\n",
    "SELECT\n",
    "    column_1,\n",
    "    aggregate_function (column_2)\n",
    "FROM\n",
    "    tbl_name\n",
    "GROUP BY\n",
    "    column_1\n",
    "HAVING\n",
    "    condition;\n",
    "```\n",
    "Klauzula HAVING ustawia warunek dla wierszy grup utworzonych przez klauzulę GROUP BY.  \n",
    "\n",
    "Klauzula GROUP BY ma zastosowanie, podczas gdy klauzula WHERE określa wcześniej warunki dla poszczególnych wierszy."
   ]
  },
  {
   "cell_type": "markdown",
   "metadata": {},
   "source": [
    "## Zadania wprowadzające\n",
    "Wykonaj zapytania przy użyciu DBMS:  \n",
    "  \n",
    "1. Znajdź listę wszystkich filmów o tej samej długości.\n",
    "2. Znajdź wszystkich klientów mieszkających w tym samym mieście.\n",
    "3. Oblicz średni koszt wypożyczenia wszystkich filmów.\n",
    "4. Oblicz i wyświetl liczbę filmów we wszystkich kategoriach.\n",
    "5. Wyświetl liczbę wszystkich klientów pogrupowanych według kraju.\n",
    "6. Wyświetl informacje o sklepie, który ma więcej niż 100 klientów i mniej niż 300 klientów.\n",
    "7. Wybierz wszystkich klientów, którzy oglądali filmy ponad 200 godzin.\n",
    "8. Oblicz średnią wartość wypożyczenia filmu.\n",
    "9. Oblicz średnią wartość długości filmu we wszystkich kategoriach.\n",
    "10. Znajdź najdłuższe tytuły filmowe we wszystkich kategoriach.\n",
    "11. Znajdź najdłuższy film we wszystkich kategoriach. Porównaj wynik z pkt 10."
   ]
  },
  {
   "cell_type": "markdown",
   "metadata": {},
   "source": [
    "1. Znajdź listę wszystkich filmów o tej samej długości."
   ]
  },
  {
   "cell_type": "markdown",
   "metadata": {},
   "source": [
    "z uwagi na brak jakiegokolwiek pomysłu co może oznaczać to pytanie poza listą list filmów o zadanej długości (co nie do końca mnie przekonuje). to pytanie dla mnie brzmi \"znajdź listę liczby filmów w poszczególnych zbiorach dla których zdefiniowanych dla wszystkich czasów z wyłączeniem zbiorów pustych\""
   ]
  },
  {
   "cell_type": "code",
   "execution_count": 1,
   "metadata": {},
   "outputs": [],
   "source": [
    "import numpy as np\n",
    "import pickle\n",
    "\n",
    "import psycopg2 as pg\n",
    "import pandas.io.sql as psql\n",
    "import pandas as pd\n",
    "\n",
    "from typing import Union, List, Tuple\n",
    "\n",
    "connection = pg.connect(host='pgsql-196447.vipserv.org', port=5432, dbname='wbauer_adb', user='wbauer_adb', password='adb2020');\n"
   ]
  },
  {
   "cell_type": "code",
   "execution_count": 2,
   "metadata": {},
   "outputs": [
    {
     "name": "stdout",
     "output_type": "stream",
     "text": [
      "     length  count\n",
      "0       116      4\n",
      "1       184      8\n",
      "2        87      6\n",
      "3        71      7\n",
      "4        68      5\n",
      "..      ...    ...\n",
      "135     148      7\n",
      "136     129      7\n",
      "137     130      6\n",
      "138     143      7\n",
      "139      58      7\n",
      "\n",
      "[140 rows x 2 columns]\n"
     ]
    },
    {
     "name": "stderr",
     "output_type": "stream",
     "text": [
      "C:\\Users\\nikos\\AppData\\Local\\Temp\\ipykernel_30516\\2758686133.py:9: UserWarning: pandas only supports SQLAlchemy connectable (engine/connection) or database string URI or sqlite3 DBAPI2 connection. Other DBAPI2 objects are not tested. Please consider using SQLAlchemy.\n",
      "  df = pd.read_sql(strr, con=connection)\n"
     ]
    }
   ],
   "source": [
    "strr = f\"\"\"\n",
    "SELECT\n",
    "    film.length, COUNT(film.film_id)\n",
    "FROM\n",
    "    film\n",
    "GROUP BY\n",
    "    film.length\n",
    "\"\"\"\n",
    "df = pd.read_sql(strr, con=connection)\n",
    "print(df)"
   ]
  },
  {
   "cell_type": "markdown",
   "metadata": {},
   "source": [
    "2. Znajdź wszystkich klientów mieszkających w tym samym mieście."
   ]
  },
  {
   "cell_type": "markdown",
   "metadata": {},
   "source": [
    "podobnie jak wyżej tylko długość na miasta"
   ]
  },
  {
   "cell_type": "code",
   "execution_count": 3,
   "metadata": {},
   "outputs": [
    {
     "name": "stdout",
     "output_type": "stream",
     "text": [
      "                city  count\n",
      "0          Southport      1\n",
      "1             Taguig      1\n",
      "2              Tokat      1\n",
      "3            Atlixco      1\n",
      "4           Mukateve      1\n",
      "..               ...    ...\n",
      "592           Warren      1\n",
      "593        Pingxiang      1\n",
      "594       Greensboro      1\n",
      "595  Ocumare del Tuy      1\n",
      "596         Pemalang      1\n",
      "\n",
      "[597 rows x 2 columns]\n"
     ]
    },
    {
     "name": "stderr",
     "output_type": "stream",
     "text": [
      "C:\\Users\\nikos\\AppData\\Local\\Temp\\ipykernel_30516\\3926990307.py:12: UserWarning: pandas only supports SQLAlchemy connectable (engine/connection) or database string URI or sqlite3 DBAPI2 connection. Other DBAPI2 objects are not tested. Please consider using SQLAlchemy.\n",
      "  df = pd.read_sql(strr, con=connection)\n"
     ]
    }
   ],
   "source": [
    "strr = f\"\"\"\n",
    "SELECT\n",
    "    city.city, COUNT(customer.customer_id)\n",
    "FROM\n",
    "    customer, address,city\n",
    "WHERE\n",
    "    customer.address_id = address.address_id\n",
    "    AND address.city_id = city.city_id\n",
    "GROUP BY\n",
    "    city.city\n",
    "\"\"\"\n",
    "df = pd.read_sql(strr, con=connection)\n",
    "print(df)"
   ]
  },
  {
   "cell_type": "markdown",
   "metadata": {},
   "source": [
    "3. Oblicz średni koszt wypożyczenia wszystkich filmów."
   ]
  },
  {
   "cell_type": "code",
   "execution_count": 4,
   "metadata": {},
   "outputs": [
    {
     "name": "stdout",
     "output_type": "stream",
     "text": [
      "    avg\n",
      "0  2.98\n"
     ]
    },
    {
     "name": "stderr",
     "output_type": "stream",
     "text": [
      "C:\\Users\\nikos\\AppData\\Local\\Temp\\ipykernel_30516\\3937777551.py:7: UserWarning: pandas only supports SQLAlchemy connectable (engine/connection) or database string URI or sqlite3 DBAPI2 connection. Other DBAPI2 objects are not tested. Please consider using SQLAlchemy.\n",
      "  df = pd.read_sql(strr, con=connection)\n"
     ]
    }
   ],
   "source": [
    "strr = f\"\"\"\n",
    "SELECT\n",
    "    AVG(film.rental_rate)\n",
    "FROM\n",
    "    film\n",
    "\"\"\"\n",
    "df = pd.read_sql(strr, con=connection)\n",
    "print(df)"
   ]
  },
  {
   "cell_type": "markdown",
   "metadata": {},
   "source": [
    "4. Oblicz i wyświetl liczbę filmów we wszystkich kategoriach."
   ]
  },
  {
   "cell_type": "code",
   "execution_count": 5,
   "metadata": {},
   "outputs": [
    {
     "name": "stdout",
     "output_type": "stream",
     "text": [
      "       category  count\n",
      "0        Sports     74\n",
      "1      Classics     57\n",
      "2           New     63\n",
      "3        Family     69\n",
      "4        Comedy     58\n",
      "5     Animation     66\n",
      "6        Travel     57\n",
      "7         Music     51\n",
      "8         Drama     62\n",
      "9        Horror     56\n",
      "10       Sci-Fi     61\n",
      "11        Games     61\n",
      "12  Documentary     68\n",
      "13      Foreign     73\n",
      "14       Action     64\n",
      "15     Children     60\n"
     ]
    },
    {
     "name": "stderr",
     "output_type": "stream",
     "text": [
      "C:\\Users\\nikos\\AppData\\Local\\Temp\\ipykernel_30516\\3308867546.py:12: UserWarning: pandas only supports SQLAlchemy connectable (engine/connection) or database string URI or sqlite3 DBAPI2 connection. Other DBAPI2 objects are not tested. Please consider using SQLAlchemy.\n",
      "  df = pd.read_sql(strr, con=connection)\n"
     ]
    }
   ],
   "source": [
    "strr = f\"\"\"\n",
    "SELECT\n",
    "    category.name AS category ,COUNT(film.title)\n",
    "FROM\n",
    "    category, film_category, film\n",
    "WHERE\n",
    "    category.category_id = film_category.category_id\n",
    "    AND film.film_id = film_category.film_id\n",
    "GROUP BY\n",
    "    category.name\n",
    "\"\"\"\n",
    "df = pd.read_sql(strr, con=connection)\n",
    "print(df)"
   ]
  },
  {
   "cell_type": "markdown",
   "metadata": {},
   "source": [
    "5. Wyświetl liczbę wszystkich klientów pogrupowanych według kraju."
   ]
  },
  {
   "cell_type": "code",
   "execution_count": 6,
   "metadata": {},
   "outputs": [
    {
     "name": "stdout",
     "output_type": "stream",
     "text": [
      "                  country  count\n",
      "0              Bangladesh      3\n",
      "1               Indonesia     14\n",
      "2               Venezuela      7\n",
      "3                Cameroon      2\n",
      "4          Czech Republic      1\n",
      "..                    ...    ...\n",
      "103              Tanzania      3\n",
      "104                Poland      8\n",
      "105             Greenland      1\n",
      "106         French Guiana      1\n",
      "107  Virgin Islands, U.S.      1\n",
      "\n",
      "[108 rows x 2 columns]\n"
     ]
    },
    {
     "name": "stderr",
     "output_type": "stream",
     "text": [
      "C:\\Users\\nikos\\AppData\\Local\\Temp\\ipykernel_30516\\322804802.py:13: UserWarning: pandas only supports SQLAlchemy connectable (engine/connection) or database string URI or sqlite3 DBAPI2 connection. Other DBAPI2 objects are not tested. Please consider using SQLAlchemy.\n",
      "  df = pd.read_sql(strr, con=connection)\n"
     ]
    }
   ],
   "source": [
    "strr = f\"\"\"\n",
    "SELECT\n",
    "    country.country ,COUNT(customer.customer_id)\n",
    "FROM\n",
    "    country, city, address, customer\n",
    "WHERE\n",
    "    country.country_id = city.country_id\n",
    "    AND address.city_id = city.city_id\n",
    "    AND customer.address_id = address.address_id\n",
    "GROUP BY\n",
    "    country.country\n",
    "\"\"\"\n",
    "df = pd.read_sql(strr, con=connection)\n",
    "print(df)"
   ]
  },
  {
   "cell_type": "markdown",
   "metadata": {},
   "source": [
    "6. Wyświetl informacje o sklepie, który ma więcej niż 100 klientów i mniej niż 300 klientów."
   ]
  },
  {
   "cell_type": "code",
   "execution_count": 7,
   "metadata": {},
   "outputs": [
    {
     "name": "stdout",
     "output_type": "stream",
     "text": [
      "   store_id  count\n",
      "0         2    273\n"
     ]
    },
    {
     "name": "stderr",
     "output_type": "stream",
     "text": [
      "C:\\Users\\nikos\\AppData\\Local\\Temp\\ipykernel_30516\\4122560733.py:12: UserWarning: pandas only supports SQLAlchemy connectable (engine/connection) or database string URI or sqlite3 DBAPI2 connection. Other DBAPI2 objects are not tested. Please consider using SQLAlchemy.\n",
      "  df = pd.read_sql(strr, con=connection)\n"
     ]
    }
   ],
   "source": [
    "strr = f\"\"\"\n",
    "SELECT\n",
    "    customer.store_id ,COUNT(customer.customer_id)\n",
    "FROM\n",
    "    customer\n",
    "GROUP BY\n",
    "    customer.store_id\n",
    "HAVING\n",
    "   COUNT(customer.customer_id)>=100\n",
    "   AND COUNT(customer.customer_id) <= 300;\n",
    "\"\"\"\n",
    "df = pd.read_sql(strr, con=connection)\n",
    "print(df)"
   ]
  },
  {
   "cell_type": "markdown",
   "metadata": {},
   "source": [
    "7. Wybierz wszystkich klientów, którzy oglądali filmy ponad 200 godzin."
   ]
  },
  {
   "cell_type": "code",
   "execution_count": 8,
   "metadata": {},
   "outputs": [
    {
     "name": "stderr",
     "output_type": "stream",
     "text": [
      "C:\\Users\\nikos\\AppData\\Local\\Temp\\ipykernel_30516\\3717042686.py:17: UserWarning: pandas only supports SQLAlchemy connectable (engine/connection) or database string URI or sqlite3 DBAPI2 connection. Other DBAPI2 objects are not tested. Please consider using SQLAlchemy.\n",
      "  df = pd.read_sql(strr, con=connection)\n"
     ]
    },
    {
     "name": "stdout",
     "output_type": "stream",
     "text": [
      "    first_name last_name   sum\n",
      "0        Brian     Wyman  1265\n",
      "1      Antonio      Meek  1451\n",
      "2        Leona    Obrien  1588\n",
      "3    Katherine    Rivera  1615\n",
      "4      Tiffany    Jordan  1667\n",
      "..         ...       ...   ...\n",
      "594     Wesley      Bull  4808\n",
      "595      Clara      Shaw  4808\n",
      "596      Tammy   Sanders  5065\n",
      "597    Eleanor      Hunt  5360\n",
      "598       Karl      Seal  5388\n",
      "\n",
      "[599 rows x 3 columns]\n"
     ]
    }
   ],
   "source": [
    "strr = f\"\"\"\n",
    "SELECT\n",
    "    customer.first_name, customer.last_name, SUM(film.length)\n",
    "FROM\n",
    "    customer,rental,inventory,film\n",
    "WHERE\n",
    "    customer.customer_id = rental.customer_id\n",
    "    AND rental.inventory_id = inventory.inventory_id\n",
    "    AND inventory.film_id = film.film_id\n",
    "GROUP BY\n",
    "    customer.customer_id\n",
    "HAVING\n",
    "   SUM(film.length)>=200\n",
    "ORDER BY\n",
    "    SUM(film.length)\n",
    "\"\"\"\n",
    "df = pd.read_sql(strr, con=connection)\n",
    "print(df)"
   ]
  },
  {
   "cell_type": "markdown",
   "metadata": {},
   "source": [
    "8. Oblicz średnią wartość wypożyczenia filmu."
   ]
  },
  {
   "cell_type": "code",
   "execution_count": 9,
   "metadata": {},
   "outputs": [
    {
     "name": "stdout",
     "output_type": "stream",
     "text": [
      "        avg\n",
      "0  4.200606\n"
     ]
    },
    {
     "name": "stderr",
     "output_type": "stream",
     "text": [
      "C:\\Users\\nikos\\AppData\\Local\\Temp\\ipykernel_30516\\2616645804.py:7: UserWarning: pandas only supports SQLAlchemy connectable (engine/connection) or database string URI or sqlite3 DBAPI2 connection. Other DBAPI2 objects are not tested. Please consider using SQLAlchemy.\n",
      "  df = pd.read_sql(strr, con=connection)\n"
     ]
    }
   ],
   "source": [
    "strr = f\"\"\"\n",
    "SELECT\n",
    "    AVG(payment.amount)\n",
    "FROM\n",
    "    payment\n",
    "\"\"\"\n",
    "df = pd.read_sql(strr, con=connection)\n",
    "print(df)"
   ]
  },
  {
   "cell_type": "markdown",
   "metadata": {},
   "source": [
    "9. Oblicz średnią wartość długości filmu we wszystkich kategoriach."
   ]
  },
  {
   "cell_type": "code",
   "execution_count": 10,
   "metadata": {},
   "outputs": [
    {
     "name": "stdout",
     "output_type": "stream",
     "text": [
      "       category         avg\n",
      "0        Sports  128.202703\n",
      "1      Classics  111.666667\n",
      "2           New  111.126984\n",
      "3        Family  114.782609\n",
      "4        Comedy  115.827586\n",
      "5     Animation  111.015152\n",
      "6        Travel  113.315789\n",
      "7         Music  113.647059\n",
      "8         Drama  120.838710\n",
      "9        Horror  112.482143\n",
      "10       Sci-Fi  108.196721\n",
      "11        Games  127.836066\n",
      "12  Documentary  108.750000\n",
      "13      Foreign  121.698630\n",
      "14       Action  111.609375\n",
      "15     Children  109.800000\n"
     ]
    },
    {
     "name": "stderr",
     "output_type": "stream",
     "text": [
      "C:\\Users\\nikos\\AppData\\Local\\Temp\\ipykernel_30516\\118076861.py:12: UserWarning: pandas only supports SQLAlchemy connectable (engine/connection) or database string URI or sqlite3 DBAPI2 connection. Other DBAPI2 objects are not tested. Please consider using SQLAlchemy.\n",
      "  df = pd.read_sql(strr, con=connection)\n"
     ]
    }
   ],
   "source": [
    "strr = f\"\"\"\n",
    "SELECT\n",
    "    category.name AS category ,AVG(film.length)\n",
    "FROM\n",
    "    category, film_category, film\n",
    "WHERE\n",
    "    category.category_id = film_category.category_id\n",
    "    AND film.film_id = film_category.film_id\n",
    "GROUP BY\n",
    "    category.name\n",
    "\"\"\"\n",
    "df = pd.read_sql(strr, con=connection)\n",
    "print(df)"
   ]
  },
  {
   "cell_type": "markdown",
   "metadata": {},
   "source": [
    "10. Znajdź najdłuższe tytuły filmowe we wszystkich kategoriach."
   ]
  },
  {
   "cell_type": "code",
   "execution_count": 11,
   "metadata": {},
   "outputs": [
    {
     "name": "stdout",
     "output_type": "stream",
     "text": [
      "       category                        title\n",
      "0        Action      Entrapment Satisfaction\n",
      "1     Animation       Telemark Heartbreakers\n",
      "2      Children         Heartbreakers Bright\n",
      "3      Children         Microcosmos Paradise\n",
      "4      Children         Sweethearts Suspects\n",
      "5      Classics      Extraordinary Conquerer\n",
      "6        Comedy      Trainspotting Strangers\n",
      "7   Documentary       Intolerable Intentions\n",
      "8   Documentary       Deliverance Mulholland\n",
      "9         Drama       Goldfinger Sensibility\n",
      "10       Family       Resurrection Silverado\n",
      "11      Foreign         Reservoir Adaptation\n",
      "12      Foreign         Impossible Prejudice\n",
      "13      Foreign         Ballroom Mockingbird\n",
      "14        Games        Creatures Shakespeare\n",
      "15        Games        Bulworth Commandments\n",
      "16       Horror  Arachnophobia Rollercoaster\n",
      "17        Music       Confidential Interview\n",
      "18          New        Flamingos Connecticut\n",
      "19       Sci-Fi         Cincinatti Whisperer\n",
      "20       Sci-Fi         Silverado Goldfinger\n",
      "21       Sci-Fi         Unforgiven Zoolander\n",
      "22       Sci-Fi         Wonderland Christmas\n",
      "23       Sci-Fi         Barbarella Streetcar\n",
      "24       Sports    Satisfaction Confidential\n",
      "25       Travel      Desperate Trainspotting"
     ]
    },
    {
     "name": "stderr",
     "output_type": "stream",
     "text": [
      "C:\\Users\\nikos\\AppData\\Local\\Temp\\ipykernel_30516\\1531461001.py:26: UserWarning: pandas only supports SQLAlchemy connectable (engine/connection) or database string URI or sqlite3 DBAPI2 connection. Other DBAPI2 objects are not tested. Please consider using SQLAlchemy.\n",
      "  df = pd.read_sql(strr, con=connection)\n"
     ]
    },
    {
     "name": "stdout",
     "output_type": "stream",
     "text": [
      "\n"
     ]
    }
   ],
   "source": [
    "strr = f\"\"\"\n",
    "SELECT\n",
    "    new_tab.category, film.title\n",
    "FROM(\n",
    "    SELECT\n",
    "        category.name AS category ,MAX(LENGTH(film.title))\n",
    "    FROM\n",
    "        category, film_category, film\n",
    "    WHERE\n",
    "        category.category_id = film_category.category_id\n",
    "        AND film.film_id = film_category.film_id\n",
    "    GROUP BY\n",
    "        category.name\n",
    "    ) new_tab, category, film_category, film\n",
    "WHERE\n",
    "    category.category_id = film_category.category_id\n",
    "    AND film.film_id = film_category.film_id\n",
    "    AND new_tab.category = category.name\n",
    "    AND new_tab.MAX = LENGTH(film.title)\n",
    "ORDER BY\n",
    "    new_tab.category\n",
    "\n",
    "\n",
    "\"\"\"\n",
    "\n",
    "df = pd.read_sql(strr, con=connection)\n",
    "print(df)"
   ]
  },
  {
   "cell_type": "markdown",
   "metadata": {},
   "source": [
    "11. Znajdź najdłuższy film we wszystkich kategoriach. Porównaj wynik z pkt 10."
   ]
  },
  {
   "cell_type": "code",
   "execution_count": 12,
   "metadata": {},
   "outputs": [
    {
     "name": "stderr",
     "output_type": "stream",
     "text": [
      "C:\\Users\\nikos\\AppData\\Local\\Temp\\ipykernel_30516\\746609497.py:23: UserWarning: pandas only supports SQLAlchemy connectable (engine/connection) or database string URI or sqlite3 DBAPI2 connection. Other DBAPI2 objects are not tested. Please consider using SQLAlchemy.\n",
      "  df = pd.read_sql(strr, con=connection)\n"
     ]
    },
    {
     "name": "stdout",
     "output_type": "stream",
     "text": [
      "       category               title\n",
      "0        Action      Darn Forrester\n",
      "1        Action        Worst Banger\n",
      "2     Animation        Pond Seattle\n",
      "3     Animation         Gangs Pride\n",
      "4      Children         Fury Murder\n",
      "5      Children      Wrong Behavior\n",
      "6      Classics   Conspiracy Spirit\n",
      "7        Comedy      Control Anthem\n",
      "8   Documentary      Young Language\n",
      "9   Documentary           Wife Turn\n",
      "10        Drama       Jacket Frisco\n",
      "11       Family      King Evolution\n",
      "12      Foreign      Sorority Queen\n",
      "13      Foreign    Crystal Breaking\n",
      "14        Games       Chicago North\n",
      "15       Horror    Analyze Hoosiers\n",
      "16       Horror       Love Suicides\n",
      "17        Music           Home Pity\n",
      "18          New      Frontier Cabin\n",
      "19       Sci-Fi  Soldiers Evolution\n",
      "20       Sports     Smoochy Control\n",
      "21       Travel   Sweet Brotherhood\n",
      "22       Travel       Muscle Bright\n"
     ]
    }
   ],
   "source": [
    "strr = f\"\"\"\n",
    "SELECT\n",
    "    new_tab.category, film.title\n",
    "FROM(\n",
    "    SELECT\n",
    "        category.name AS category ,MAX(film.length)\n",
    "    FROM\n",
    "        category, film_category, film\n",
    "    WHERE\n",
    "        category.category_id = film_category.category_id\n",
    "        AND film.film_id = film_category.film_id\n",
    "    GROUP BY\n",
    "        category.name\n",
    "    ) new_tab, category, film_category, film\n",
    "WHERE\n",
    "    category.category_id = film_category.category_id\n",
    "    AND film.film_id = film_category.film_id\n",
    "    AND new_tab.category = category.name\n",
    "    AND new_tab.MAX = film.length\n",
    "ORDER BY\n",
    "    new_tab.category\n",
    "\"\"\"\n",
    "df = pd.read_sql(strr, con=connection)\n",
    "print(df)"
   ]
  },
  {
   "cell_type": "markdown",
   "metadata": {},
   "source": [
    "## Zadanie implementacyjne\n",
    "Zaimplementuj wszystkie funkcje w pliku main.py zgodnie z opisem a następnie przetestuj je w notatniku."
   ]
  },
  {
   "cell_type": "code",
   "execution_count": 14,
   "metadata": {},
   "outputs": [
    {
     "name": "stdout",
     "output_type": "stream",
     "text": [
      "                     title               languge category\n",
      "0             Amadeus Holy  English                Action\n",
      "1          American Circus  English                Action\n",
      "2       Antitrust Tomatoes  English                Action\n",
      "3            Ark Ridgemont  English                Action\n",
      "4      Barefoot Manchurian  English                Action\n",
      "..                     ...                   ...      ...\n",
      "59         Uprising Uptown  English                Action\n",
      "60  Waterfront Deliverance  English                Action\n",
      "61           Werewolf Lola  English                Action\n",
      "62            Women Dorado  English                Action\n",
      "63            Worst Banger  English                Action\n",
      "\n",
      "[64 rows x 3 columns]\n"
     ]
    },
    {
     "name": "stderr",
     "output_type": "stream",
     "text": [
      "c:\\D\\AIBD\\AIBD_Michal_Michniak-main\\lab2_join-MichalMichniak-master\\main.py:44: UserWarning: pandas only supports SQLAlchemy connectable (engine/connection) or database string URI or sqlite3 DBAPI2 connection. Other DBAPI2 objects are not tested. Please consider using SQLAlchemy.\n",
      "  df = pd.read_sql(strr, con=connection)\n"
     ]
    }
   ],
   "source": [
    "import main\n",
    "\n",
    "#connection = pg.connect(host='pgsql-196447.vipserv.org', port=5432, dbname='wbauer_adb', user='wbauer_adb', password='adb2020');\n",
    "df = main.film_in_category(1)\n",
    "print(df)"
   ]
  },
  {
   "cell_type": "code",
   "execution_count": 15,
   "metadata": {},
   "outputs": [
    {
     "name": "stdout",
     "output_type": "stream",
     "text": [
      "  category  count\n",
      "0   Action     64\n"
     ]
    },
    {
     "name": "stderr",
     "output_type": "stream",
     "text": [
      "c:\\D\\AIBD\\AIBD_Michal_Michniak-main\\lab2_join-MichalMichniak-master\\main.py:80: UserWarning: pandas only supports SQLAlchemy connectable (engine/connection) or database string URI or sqlite3 DBAPI2 connection. Other DBAPI2 objects are not tested. Please consider using SQLAlchemy.\n",
      "  df = pd.read_sql(strr, con=connection)\n"
     ]
    }
   ],
   "source": [
    "df = main.number_films_in_category(1)\n",
    "print(df)"
   ]
  },
  {
   "cell_type": "code",
   "execution_count": 23,
   "metadata": {},
   "outputs": [
    {
     "name": "stdout",
     "output_type": "stream",
     "text": [
      "   length  count\n",
      "0      80     10\n",
      "1      81      3\n",
      "2      82      7\n",
      "3      83      6\n",
      "4      84     13\n",
      "5      85     17\n",
      "6      86      5\n",
      "7      87      6\n",
      "8      88      4\n"
     ]
    },
    {
     "name": "stderr",
     "output_type": "stream",
     "text": [
      "c:\\D\\AIBD\\AIBD_Michal_Michniak-main\\lab2_join-MichalMichniak-master\\main.py:116: UserWarning: pandas only supports SQLAlchemy connectable (engine/connection) or database string URI or sqlite3 DBAPI2 connection. Other DBAPI2 objects are not tested. Please consider using SQLAlchemy.\n",
      "  df = pd.read_sql(strr, con=connection)\n"
     ]
    }
   ],
   "source": [
    "df = main.number_film_by_length(80,88)\n",
    "print(df)"
   ]
  },
  {
   "cell_type": "code",
   "execution_count": 18,
   "metadata": {},
   "outputs": [
    {
     "name": "stdout",
     "output_type": "stream",
     "text": [
      "     city first_name last_name\n",
      "0  London     Mattie   Hoffman\n",
      "1  London      Cecil     Vines\n"
     ]
    },
    {
     "name": "stderr",
     "output_type": "stream",
     "text": [
      "c:\\D\\AIBD\\AIBD_Michal_Michniak-main\\lab2_join-MichalMichniak-master\\main.py:154: UserWarning: pandas only supports SQLAlchemy connectable (engine/connection) or database string URI or sqlite3 DBAPI2 connection. Other DBAPI2 objects are not tested. Please consider using SQLAlchemy.\n",
      "  df = pd.read_sql(strr, con=connection)\n"
     ]
    }
   ],
   "source": [
    "df = main.client_from_city(\"London\")\n",
    "print(df)"
   ]
  },
  {
   "cell_type": "code",
   "execution_count": 19,
   "metadata": {},
   "outputs": [
    {
     "name": "stdout",
     "output_type": "stream",
     "text": [
      "   length       avg\n",
      "0      48  4.295389\n"
     ]
    },
    {
     "name": "stderr",
     "output_type": "stream",
     "text": [
      "c:\\D\\AIBD\\AIBD_Michal_Michniak-main\\lab2_join-MichalMichniak-master\\main.py:187: UserWarning: pandas only supports SQLAlchemy connectable (engine/connection) or database string URI or sqlite3 DBAPI2 connection. Other DBAPI2 objects are not tested. Please consider using SQLAlchemy.\n",
      "  df = pd.read_sql(strr, con=connection)\n"
     ]
    }
   ],
   "source": [
    "df = main.avg_amount_by_length(48)\n",
    "print(df)"
   ]
  },
  {
   "cell_type": "code",
   "execution_count": 20,
   "metadata": {},
   "outputs": [
    {
     "name": "stdout",
     "output_type": "stream",
     "text": [
      "    first_name last_name   sum\n",
      "0        Brian     Wyman  1265\n",
      "1      Antonio      Meek  1451\n",
      "2        Leona    Obrien  1588\n",
      "3    Katherine    Rivera  1615\n",
      "4      Tiffany    Jordan  1667\n",
      "..         ...       ...   ...\n",
      "594     Wesley      Bull  4808\n",
      "595      Clara      Shaw  4808\n",
      "596      Tammy   Sanders  5065\n",
      "597    Eleanor      Hunt  5360\n",
      "598       Karl      Seal  5388\n",
      "\n",
      "[599 rows x 3 columns]\n"
     ]
    },
    {
     "name": "stderr",
     "output_type": "stream",
     "text": [
      "c:\\D\\AIBD\\AIBD_Michal_Michniak-main\\lab2_join-MichalMichniak-master\\main.py:227: UserWarning: pandas only supports SQLAlchemy connectable (engine/connection) or database string URI or sqlite3 DBAPI2 connection. Other DBAPI2 objects are not tested. Please consider using SQLAlchemy.\n",
      "  df = pd.read_sql(strr, con=connection)\n"
     ]
    }
   ],
   "source": [
    "df = main.client_by_sum_length(1264)\n",
    "print(df)"
   ]
  },
  {
   "cell_type": "code",
   "execution_count": 21,
   "metadata": {},
   "outputs": [
    {
     "name": "stdout",
     "output_type": "stream",
     "text": [
      "  category         avg   sum  min  max\n",
      "0   Action  111.609375  7143   47  185\n"
     ]
    },
    {
     "name": "stderr",
     "output_type": "stream",
     "text": [
      "c:\\D\\AIBD\\AIBD_Michal_Michniak-main\\lab2_join-MichalMichniak-master\\main.py:261: UserWarning: pandas only supports SQLAlchemy connectable (engine/connection) or database string URI or sqlite3 DBAPI2 connection. Other DBAPI2 objects are not tested. Please consider using SQLAlchemy.\n",
      "  df = pd.read_sql(strr, con=connection)\n"
     ]
    }
   ],
   "source": [
    "df = main.category_statistic_length(\"Action\")\n",
    "print(df)"
   ]
  }
 ],
 "metadata": {
  "kernelspec": {
   "display_name": "Python 3.9.13 64-bit",
   "language": "python",
   "name": "python3"
  },
  "language_info": {
   "codemirror_mode": {
    "name": "ipython",
    "version": 3
   },
   "file_extension": ".py",
   "mimetype": "text/x-python",
   "name": "python",
   "nbconvert_exporter": "python",
   "pygments_lexer": "ipython3",
   "version": "3.9.13"
  },
  "vscode": {
   "interpreter": {
    "hash": "44f60aa086402613a6cefbfbd09cba7fdaab965cd6fb59a8433a72af4ce50381"
   }
  }
 },
 "nbformat": 4,
 "nbformat_minor": 2
}
