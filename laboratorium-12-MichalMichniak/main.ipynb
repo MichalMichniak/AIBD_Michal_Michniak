{
 "cells": [
  {
   "cell_type": "code",
   "execution_count": 1,
   "metadata": {},
   "outputs": [],
   "source": [
    "from sqlalchemy import create_engine\n",
    "from sqlalchemy.ext.declarative import declarative_base\n",
    "\n",
    "db_string = \"postgresql://:@localhost:5432/\" #tzeba tu wpisać dane bazy. testowana baza była utworzona lokalnie\n",
    "\n",
    "engine = create_engine(db_string)\n",
    "\n",
    "Base = declarative_base()"
   ]
  },
  {
   "cell_type": "code",
   "execution_count": 2,
   "metadata": {},
   "outputs": [],
   "source": [
    "from sqlalchemy import Float, Column, Integer, String, Date,ForeignKey\n",
    "from sqlalchemy.dialects.mysql import TINYINT\n",
    "from sqlalchemy import Text\n",
    "class Users(Base):\n",
    "    __tablename__ = 'users'\n",
    "    id = Column(Integer, primary_key=True)\n",
    "    email = Column(String(50))\n",
    "\n",
    "    def __repr__(self):\n",
    "        return \"<users(id='{0}', email={1})>\".format(\n",
    "            self.id, self.email)\n",
    "\n",
    "class Hosts(Base):\n",
    "    __tablename__ = 'hosts'\n",
    "    id = Column(Integer, primary_key=True)\n",
    "    user_id = Column(Integer, ForeignKey('users.id'))\n",
    "\n",
    "    def __repr__(self):\n",
    "        return \"<hosts(id='{0}', user_id={1})>\".format(\n",
    "            self.id, self.user_id)\n",
    "\n",
    "class Bookings(Base):\n",
    "    __tablename__ = 'bookings'\n",
    "    id = Column(Integer, primary_key=True)\n",
    "    user_id = Column(Integer, ForeignKey('users.id'))\n",
    "    place_id = Column(Integer, ForeignKey('places.id'))\n",
    "    start_date = Column(Date)\n",
    "    end_date = Column(Date)\n",
    "    price_per_night = Column(Float)\n",
    "    num_nigths = Column(Integer)\n",
    "\n",
    "    def __repr__(self):\n",
    "        return \"<bookings(id='{0}', user_id={1}, place_id={2}, start_date={3}, end_date={4}, price_per_nigh={5}, num_nigths={6})>\".format(\n",
    "            self.id, self.user_id, self.place_id, self.start_date, self.end_date, self.price_per_night, self.num_nigths)\n",
    "\n",
    "class Reviews(Base):\n",
    "    __tablename__ = 'reviews'\n",
    "    id = Column(Integer, primary_key = True)\n",
    "    booking_id = Column(Integer, ForeignKey('bookings.id'))\n",
    "    rating = Column(Integer)\n",
    "    review_body = Column(Text)\n",
    "\n",
    "    def __repr__(self):\n",
    "        return \"<bookings(id='{0}', booking_id={1}, rating={2}, review_body={3})>\".format(\n",
    "            self.id, self.booking_id, self.rating, self.review_body)\n",
    "\n",
    "class Places(Base):\n",
    "    __tablename__ = 'places'\n",
    "    id = Column(Integer, primary_key = True)\n",
    "    host_id = Column(Integer, ForeignKey('hosts.id'))\n",
    "    address = Column(String(50))\n",
    "    city_id = Column(Integer, ForeignKey('cities.id'))\n",
    "\n",
    "    def __repr__(self):\n",
    "        return \"<places(id='{0}', host_id='{1}', address='{2}', city_id='{3}')>\".format(\n",
    "            self.id, self.host_id, self.address, self.city_id\n",
    "        )\n",
    "\n",
    "class Cities(Base):\n",
    "    __tablename__ = 'cities'\n",
    "    id = Column(Integer, primary_key = True)\n",
    "    name = Column(String(50))\n",
    "    country_id = Column(Integer, ForeignKey('countries.id'))\n",
    "\n",
    "    def __repr__(self):\n",
    "        return \"<cities(id='{0}', name={1}, country_id={2})>\".format(self.id, self.name, self.country_id)\n",
    "\n",
    "class Countries(Base):\n",
    "    __tablename__ = 'countries'\n",
    "    id = Column(Integer, primary_key = True)\n",
    "    country_code = Column(String(50))\n",
    "    name = Column(String(50))\n",
    "\n",
    "    def __repr__(self):\n",
    "        return \"<countries(id='{0}', country_code={1}, name={2})>\".format(self.id, self.country_code, self.name)\n",
    "Base.metadata.create_all(engine)"
   ]
  },
  {
   "cell_type": "code",
   "execution_count": null,
   "metadata": {},
   "outputs": [],
   "source": []
  }
 ],
 "metadata": {
  "kernelspec": {
   "display_name": "Python 3",
   "language": "python",
   "name": "python3"
  },
  "language_info": {
   "codemirror_mode": {
    "name": "ipython",
    "version": 3
   },
   "file_extension": ".py",
   "mimetype": "text/x-python",
   "name": "python",
   "nbconvert_exporter": "python",
   "pygments_lexer": "ipython3",
   "version": "3.9.13 (tags/v3.9.13:6de2ca5, May 17 2022, 16:36:42) [MSC v.1929 64 bit (AMD64)]"
  },
  "orig_nbformat": 4,
  "vscode": {
   "interpreter": {
    "hash": "44f60aa086402613a6cefbfbd09cba7fdaab965cd6fb59a8433a72af4ce50381"
   }
  }
 },
 "nbformat": 4,
 "nbformat_minor": 2
}
