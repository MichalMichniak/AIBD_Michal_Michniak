{
 "cells": [
  {
   "cell_type": "markdown",
   "metadata": {},
   "source": [
    "# <center>Laboratorium Analiza i bazy danych </center>\n",
    "\n",
    "## <center>Łańcuchy znaków i wyrażenia regularne</center>"
   ]
  },
  {
   "cell_type": "markdown",
   "metadata": {},
   "source": [
    "## Wprowadzenie\n",
    "\n",
    "W każdym silniku baz danych istnieją mechanizmy do porównywania, dopasowywania i manipulowania ciągami znaków (*string*). \n",
    "\n",
    "Oprócz podstawowej funkcjonalności polegającej na odpowiedzi na pytanie „czy ten ciąg pasuje do tego wzoru?” w bazach danych istnieją operatory i funkcje do wyodrębniania, zastępowania i podziałów pasujących podciągów do wzorca podanego przez użytkownika.\n",
    "\n",
    "\n",
    "Istnieją trzy osobne podejścia do dopasowywania wzorców zapewniane przez PostgreSQL:  \n",
    "- LIKE/ILIKE, \n",
    "- SIMILAR TO (standard SQL:1999),  \n",
    "- wyrażenia regularne w stylu POSIX. \n",
    "\n",
    "Ten dokument ma na celu przybliżenie podstawowych funkcji działania na ciągach znakowych w PostgreSQL."
   ]
  },
  {
   "cell_type": "markdown",
   "metadata": {},
   "source": [
    "## LIKE/ILIKE\n",
    "\n",
    "Wyrażenie LIKE zwraca wartość *true*, jeśli ciąg znaków odpowiada dokładnie podanemu wzorcowi. ILIKE natomiast to klauzula umożliwiająca dopasowanie wzorca jednak nie zwraca ona uwagę na wielkość liter. Wyrażeniem przeciwnym jest NOT LIKE lub NOT ILIKE. Składnia tego wyrażenia to:\n",
    "\n",
    "string (LIKE|ILIKE) wzorzec,\n",
    "string NOT (LIKE|ILIKE) wzorzec\n",
    "\n",
    "Przy tym typie klauzuli wzorce tworzymy przy użyciu dwóch operatorów:\n",
    "- _ - zastępuje pojedynczy znak,\n",
    "- % - zastępuje dowolną długość znaków.\n",
    "\n",
    "#### Przykład:\n",
    "|Wyrażenie|Wynik|\n",
    "|---|---:|\n",
    "|'abc' LIKE 'abc'|   true|  \n",
    "|'abc' LIKE 'a%'|    true|  \n",
    "|'abc' LIKE '_b_'|   true|  \n",
    "|'abc' LIKE 'c'   |   false|  \n",
    "|'ABC' ILIKE 'abc'|   true | \n",
    "|'ABC' LIKE 'abc'|    false| \n",
    "\n",
    "Klauzule LIKE/ILIKE można zastąpić operatorami:\n",
    "- ~~ równoważny do LIKE\n",
    "- ~~\\*  równoważny do ILIKE  \n",
    "- !~~  równoważny do LIKE  \n",
    "- !~~\\* równoważny do NOT ILIKE"
   ]
  },
  {
   "cell_type": "markdown",
   "metadata": {},
   "source": [
    "## SIMILAR TO\n",
    "Klauzula SIMILAR TO tak samo jak LIKE/ILIKE zwraca wartość *true* lub *false* w zależności od tego, czy podany wzorzec pasuje do podanego ciągu. Różnica pomiędzy tymi operatorami polega na tym, że SIMILAR TO interpretuje wzorzec za pomocą definicji wyrażenia regularnego w standardzie SQL. Wyrażenia regularne SQL są połączeniem notacji LIKE i zwykłej notacji wyrażeń regularnych (POSIX).\n",
    "\n",
    "Składnia tego zapytania ma postać:\n",
    "\n",
    "string SIMILAR TO wzorzec,\n",
    "string NOT SIMILAR TO wzorzec\n",
    "\n",
    "Oprócz funkcji zapożyczonych z LIKE, SIMILAR TO obsługuje te metaznaki pasujące do wzorca zapożyczone z wyrażeń regularnych POSIX:\n",
    "\n",
    "- \\| - oznacza naprzemienność (jedną z dwóch alternatyw).\n",
    "- \\* - oznacza powtórzenie poprzedniego elementu zero lub więcej razy.\n",
    "- \\+ - oznacza powtórzenie poprzedniego elementu jeden lub więcej razy.\n",
    "- \\? - oznacza powtórzenie poprzedniego elementu zero lub jeden raz.\n",
    "- {m} - oznacza powtórzenie poprzedniego elementu dokładnie m razy.\n",
    "- {m,} - oznacza powtórzenie poprzedniego elementu m lub więcej razy.\n",
    "- {m, n} - oznacza powtórzenie poprzedniego elementu co najmniej mi nie więcej niż n razy.\n",
    "\n",
    "Nawiasów () można używać do grupowania elementów w jeden element logiczny. Wyrażenie w nawiasie \\[...\\] określa klasę znaków, podobnie jak w wyrażeniach regularnych POSIX.\n",
    "\n",
    "|Wyrażenie|Wynik|\n",
    "|---|---:|\n",
    "|'abc' SIMILAR TO 'abc'|     true|\n",
    "|'abc' SIMILAR TO 'a'|        false|\n",
    "|'abc' SIMILAR TO '%(b\\|d)%'| true|\n",
    "|'abc' SIMILAR TO '(b\\|c)%'|   false|"
   ]
  },
  {
   "cell_type": "markdown",
   "metadata": {},
   "source": [
    "## Składnia POSIX\n",
    "\n",
    "Wyrażenia regularne POSIX zapewniają więcej reguł tworzenia wzorców niż operatory LIKE i SIMILAR TO. Wiele narzędzi uniksowych, takich jak grep, sed lub awk, używa języka dopasowywania wzorców podobnego do tego używanego w PostgreSQL.\n",
    "\n",
    "Wyrażenie regularne to opis ciągu znaków przy użyciu symboli w celu utworzenia wzorca ciągu, która umożliwia dopasowanie wzorców. Mówi się, że łańcuch pasuje do wyrażenia regularnego, jeśli jest on członkiem zbioru regularnego opisanego przez wyrażenie regularne. Podobnie jak w przypadku LIKE, znaki wzorcowe dokładnie pasują do znaków łańcuchowych, chyba że są znakami specjalnymi w języku wyrażeń regularnych - ale wyrażenia regularne używają innych znaków specjalnych niż LIKE. W przeciwieństwie do wzorców LIKE, wyrażenie regularne może pasować w dowolnym miejscu ciągu, chyba że wyrażenie regularne jest wyraźnie zakotwiczone na początku (^) lub na końcu łańcucha ($).\n",
    "\n",
    "Używanie tego rodzaju dopasowania ciągu znaków odbywa się przez operatory:\n",
    "\n",
    "- ~\tpasuje do wzorca , wielkość liter ma znaczenie\n",
    "- ~\\*\tpasuje do wzorca , wielkość liter nie ma znaczenie\t\n",
    "- !~\tnie pasuje do wzorca , wielkość liter ma znaczenie\t\n",
    "- !~\\*\tnie pasuje do wzorca , wielkość liter nie ma znaczenie\n",
    "\n",
    "#### Przykład:\n",
    "|Wyrażenie|Wynik|\n",
    "|---|---:|\n",
    "|'abc' ~ 'abc'|    true|\n",
    "|'abc' ~ '^a' |    true|\n",
    "|'abc' ~ '(b\\|d)'|  true|\n",
    "|'abc' ~ '^(b\\|c)'| false|\n",
    "\n",
    "Język zapytań regularnych w PostgreSQL który będzie omawiany na zajęciach składa się z:\n",
    "\n",
    "|Wzorzec|Dopasowanie|\n",
    "|---|---|\n",
    "|\\* |sekwencja 0 lub więcej dopasowań atomu|\n",
    "|\\+ |sekwencja 1 lub więcej dopasowań atomu|\n",
    "|\\? |sekwencja 0 lub 1 dopasowań atomu\n",
    "|{m.} |sekwencja dokładnie m dopasowań atomu|\n",
    "|{m,} |sekwencja m lub więcej dopasowań atomu|\n",
    "|{m, n}| sekwencja od m do n (włącznie) dopasowań atomu; m nie może przekraczać n|\n",
    "|^| dopasuj od początku łańcucha znaków|\n",
    "|$| dopasuj od końca łańcucha znaków|\n",
    "\n",
    "Formularze używające {...} są znane jako granice. Liczby min w granicach są liczbami całkowitymi dziesiętnymi bez znaku z dopuszczalnymi wartościami od 0 do 255 włącznie.\n",
    "\n",
    "Pełny opis omawianych funkcjonalności dostępny jest w [dokumentacji PostgreSQL](https://www.postgresql.org/docs/9.3/functions-matching.html) "
   ]
  },
  {
   "cell_type": "markdown",
   "metadata": {},
   "source": [
    "## Wybrane funkcje działające na znakach\n",
    "\n",
    "Poza funkcją dopasowania w PostgreSQL istnieje również szereg funkcji predefiniowanych niepozwalających działanie ciągach znaków. W poniższej tabeli przedstawiono wybrane funkcje:\n",
    "\n",
    "|Funkcja| Opis| Przykład| Wynik|\n",
    "|:---|:---|:---:|---:|\n",
    "|ASCII| Zwraca wartość kodu ASCII znaku lub punktu kodu Unicode znaku UTF8<br><br>| ASCII ('A')| 65|\n",
    "|CHR |Konwertuj kod ASCII na znak lub punkt kodu Unicode na znak UTF8<br><br>|CHR (65) |'A'|\n",
    "|CONCAT| Połączenie dwóch lub więcej ciągów w jeden<br><br>| CONCAT('A', 'B', 'C')| 'ABC'|\n",
    "|CONCAT_WS| Połączenie ciągów znaków z separatorem<br><br>| CONCAT_WS(',', 'A', 'B', 'C')| 'A, B, C'|\n",
    "|FORMAT| Łącznie ciągów zgodnie z zadanym wzorcem formatowania<br><br>| FORMAT('Witaj% s', 'PostgreSQL') |'Witaj PostgreSQL'|\n",
    "|INITCAP| Konwertuj łańcuch znaków w styl nagłówka<br><br>| INITCAP('CZEść wAM') |\"Cześć Wam\"|\n",
    "|LEFT| Zwraca pierwszy n znaku z lewej strony ciągu<br><br>| LEFT('ABC', 1) |'A'|\n",
    "|LENGTH| Zwraca liczbę znaków w ciągu<br><br>| LENGTH('ABC')| 3|\n",
    "|LOWER| Konwertuj ciąg na małe litery<br><br>|LOWER ('czEŚĆ wAM')| 'cześć wam'|\n",
    "|LPAD| Uzupełnieni z lewej strony ciągu do zadanej długości zadanym ciągiem<br><br>|LPAD('123', 5, '00')| '00123'|\n",
    "|LTRIM| Usuwanie najdłuższego ciąg zawierającego określone znaki z lewej strony ciągu wejściowego<br><br>| LTRIM ('00123')|'123'|\n",
    "|MD5| Zwraca skrót MD5 ciągu szesnastkowego<br><br>| MD5('ABC')||\n",
    "|POSITION| Zwraca lokalizację pod łańcucha w ciągu<br><br>| POSTION('B' w 'A B C') |3|\n",
    "|REGEXP_MATCHES| Dopasuj wyrażenie regularne POSIX do łańcucha i zwraca pasujące podciągi<br><br>| REGEXP_MATCHES ('ABC', '^(A)(..)$', 'g');| {ABC}|\n",
    "|REGEXP_REPLACE| Zamienia podciągi pasujące do wyrażenia regularnego POSIX na nowy podciąg<br><br>| REGEXP_REPLACE ('John Doe','(.*)(.*)’,’\\2, \\1′);| 'Doe, John'|\n",
    "|REPEAT| Powtarza ciąg określoną liczbę razy<br><br>| REPEAT('\\*', 5)| '\\*\\*\\*\\*\\*'|\n",
    "|REPLACE| Zamienia wszystkie wystąpienia w ciągu pod łańcucha z podciągu na zadany <br><br>REPLACE('ABC', 'B', 'A')| 'AAC'|\n",
    "|REVERSE| Odwrócenie ciągu<br><br>| REVERSE ('ABC') 'CBA'|\n",
    "|RIGHT| Zwraca ostatnie n znaków w ciągu. Kiedy n jest ujemne, zwracaj wszystkie oprócz pierwszego<br><br>| RIGHT('ABC', 2)| 'BC'|\n",
    "|RPAD| Uzupełnieni z prawej strony ciągu do zadanej długości zadanym ciągiem<br><br>| RPAD('ABC', 6, 'xo') | 'ABCxox'|\n",
    "|RTRIM| Usuwa najdłuższy ciąg zawierający określone znaki z prawej strony ciągu wejściowego<br><br>| RTRIM 'abcxxzx', 'xyz')|'abc'|\n",
    "|SPLIT_PART| Dzieli ciąg na określonym ograniczniku i zwraca n-ty pod łańcuch<br><br>| SPLIT_PART('2017-12-31′, ’-', 2)| ’12’|\n",
    "|SUBSTRING| Wyodrębnia podciąg z ciągu<br><br>| SUBSTRING('ABC', 1,1)| 'A'|\n",
    "|TRIM| Usuwa najdłuższy ciąg zawierający określone znaki z lewej, prawej lub obu ciągów wejściowych<br><br>| TRIM('ABC')| 'ABC'|\n",
    "|UPPER| Konwertuje ciąg na wielkie litery<br><br>|UPPER('CZEść wAM') |'CZEŚĆ WAM'|\n"
   ]
  },
  {
   "cell_type": "markdown",
   "metadata": {},
   "source": [
    "## Zadania:\n",
    "1. Znajdź wszystkie nazwy krajów rozpoczynających się na P.\n",
    "2. Znajdź wszystkie nazwy krajów rozpoczynających się  P i kończących na s.\n",
    "3. Znajdź wszystkie tytuły filmów, w których znajdują się cyfry.\n",
    "4. Znajdź wszystkich pracowników z podwójnym imieniem lub nazwiskiem.\n",
    "5. Znajdź wszystkie nazwiska aktorów rozpoczynających się od P lub C i mających 5 znaków.\n",
    "6. Znajdź wszystkie tytuły filmów, w których występują słowa Trip lub Alone.\n",
    "7. Przeanalizuj zapytania:\n",
    "\t- select first_name from actor where first_name ~ '^ Al\\[a: z, 1: 9\\] *'\n",
    "\t- select first_name from actor where first_name ~ * '^ al\\[a: z, 1: 9\\] *'\n"
   ]
  },
  {
   "cell_type": "markdown",
   "metadata": {},
   "source": [
    "## Zadanie implementacyjne\n",
    "Zaimplementuj wszystkie funkcje w pliku main.py zgodnie z opisem a następnie przetestuj je w notatniku.\n"
   ]
  },
  {
   "cell_type": "code",
   "execution_count": 3,
   "metadata": {},
   "outputs": [
    {
     "name": "stdout",
     "output_type": "stream",
     "text": [
      "select title from film where lower(title) ~ '\\w*\\s{0,1}(dracula|crystal)\\s{1}\\w*' order by title\n"
     ]
    },
    {
     "data": {
      "text/html": [
       "<div>\n",
       "<style scoped>\n",
       "    .dataframe tbody tr th:only-of-type {\n",
       "        vertical-align: middle;\n",
       "    }\n",
       "\n",
       "    .dataframe tbody tr th {\n",
       "        vertical-align: top;\n",
       "    }\n",
       "\n",
       "    .dataframe thead th {\n",
       "        text-align: right;\n",
       "    }\n",
       "</style>\n",
       "<table border=\"1\" class=\"dataframe\">\n",
       "  <thead>\n",
       "    <tr style=\"text-align: right;\">\n",
       "      <th></th>\n",
       "      <th>title</th>\n",
       "    </tr>\n",
       "  </thead>\n",
       "  <tbody>\n",
       "    <tr>\n",
       "      <th>0</th>\n",
       "      <td>Crystal Breaking</td>\n",
       "    </tr>\n",
       "    <tr>\n",
       "      <th>1</th>\n",
       "      <td>Dracula Crystal</td>\n",
       "    </tr>\n",
       "  </tbody>\n",
       "</table>\n",
       "</div>"
      ],
      "text/plain": [
       "              title\n",
       "0  Crystal Breaking\n",
       "1   Dracula Crystal"
      ]
     },
     "execution_count": 3,
     "metadata": {},
     "output_type": "execute_result"
    }
   ],
   "source": [
    "import main\n",
    "\n",
    "#main.film_title_case_insensitive(['BeD', 'BLOOD', 'SonS', 'son', 'cry'])\n",
    "main.film_title_case_insensitive(['Giant', 'Harry', 'Birdcage', 'Iron'])"
   ]
  },
  {
   "cell_type": "code",
   "execution_count": null,
   "metadata": {},
   "outputs": [],
   "source": []
  }
 ],
 "metadata": {
  "kernelspec": {
   "display_name": "Python 3.10.6 64-bit",
   "language": "python",
   "name": "python3"
  },
  "language_info": {
   "codemirror_mode": {
    "name": "ipython",
    "version": 3
   },
   "file_extension": ".py",
   "mimetype": "text/x-python",
   "name": "python",
   "nbconvert_exporter": "python",
   "pygments_lexer": "ipython3",
   "version": "3.10.6"
  },
  "vscode": {
   "interpreter": {
    "hash": "916dbcbb3f70747c44a77c7bcd40155683ae19c65e1c03b4aa3499c5328201f1"
   }
  }
 },
 "nbformat": 4,
 "nbformat_minor": 2
}
